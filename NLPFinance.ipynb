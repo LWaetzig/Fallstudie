{
 "cells": [
  {
   "cell_type": "code",
   "execution_count": 39,
   "id": "18a607e5",
   "metadata": {},
   "outputs": [],
   "source": [
    "from bs4 import BeautifulSoup\n",
    "import requests\n",
    "from csv import writer\n",
    "import pandas as pd\n",
    "from vaderSentiment.vaderSentiment import SentimentIntensityAnalyzer\n",
    "from transformers import pipeline"
   ]
  },
  {
   "cell_type": "code",
   "execution_count": 40,
   "id": "6ba7a6d6",
   "metadata": {},
   "outputs": [],
   "source": [
    "url=\"https://de.finance.yahoo.com\"\n",
    "page=requests.get(url)\n",
    "soup= BeautifulSoup(page.content, \"html.parser\")\n",
    "lists=soup.find_all(\"div\", class_=\"Cf\")\n",
    "with open(\"finance.csv\",\"w\",encoding=\"utf8\", newline=\"\") as f:\n",
    "    thewriter =writer(f)\n",
    "    header=[\"Title\", \"Maintext\"]\n",
    "    thewriter.writerow(header)\n",
    "    for list in lists:\n",
    "        maintext=list.find(\"p\", class_=\"Fz(14px) Lh(19px) Fz(13px)--sm1024 Lh(17px)--sm1024 LineClamp(2,38px) LineClamp(2,34px)--sm1024 M(0)\").text\n",
    "        title=list.find(\"a\", class_=\"js-content-viewer\").text\n",
    "        info=[title,maintext]\n",
    "        thewriter.writerow(info)\n",
    "\n"
   ]
  },
  {
   "cell_type": "code",
   "execution_count": 41,
   "id": "b5564e28",
   "metadata": {},
   "outputs": [
    {
     "data": {
      "text/html": [
       "<div>\n",
       "<style scoped>\n",
       "    .dataframe tbody tr th:only-of-type {\n",
       "        vertical-align: middle;\n",
       "    }\n",
       "\n",
       "    .dataframe tbody tr th {\n",
       "        vertical-align: top;\n",
       "    }\n",
       "\n",
       "    .dataframe thead th {\n",
       "        text-align: right;\n",
       "    }\n",
       "</style>\n",
       "<table border=\"1\" class=\"dataframe\">\n",
       "  <thead>\n",
       "    <tr style=\"text-align: right;\">\n",
       "      <th></th>\n",
       "      <th>Title</th>\n",
       "      <th>Maintext</th>\n",
       "    </tr>\n",
       "  </thead>\n",
       "  <tbody>\n",
       "    <tr>\n",
       "      <th>0</th>\n",
       "      <td>Verdi ruft Amazon-Beschäftigte zu Arbeitsniede...</td>\n",
       "      <td>Inmitten des Weihnachtsgeschäfts hat die Gewer...</td>\n",
       "    </tr>\n",
       "    <tr>\n",
       "      <th>1</th>\n",
       "      <td>Experte: «Twitter-Eskapaden» von Musk auch Gef...</td>\n",
       "      <td>Immer wieder sorgt Elon Musk nach der Übenahme...</td>\n",
       "    </tr>\n",
       "    <tr>\n",
       "      <th>2</th>\n",
       "      <td>Uniper-Chef appelliert an Solidarität der Akti...</td>\n",
       "      <td>Die Aktionäre sollen am Montag zwei Kapitalerh...</td>\n",
       "    </tr>\n",
       "    <tr>\n",
       "      <th>3</th>\n",
       "      <td>Eine russische Söldnergruppe rekrutiert einen ...</td>\n",
       "      <td>Die russische Söldnergruppe Wagner kämpft in d...</td>\n",
       "    </tr>\n",
       "    <tr>\n",
       "      <th>4</th>\n",
       "      <td>Änderung bei Energiepreisbremsen gefordert</td>\n",
       "      <td>Die Preisbremsen für Gas und Strom bleiben ums...</td>\n",
       "    </tr>\n",
       "  </tbody>\n",
       "</table>\n",
       "</div>"
      ],
      "text/plain": [
       "                                               Title  \\\n",
       "0  Verdi ruft Amazon-Beschäftigte zu Arbeitsniede...   \n",
       "1  Experte: «Twitter-Eskapaden» von Musk auch Gef...   \n",
       "2  Uniper-Chef appelliert an Solidarität der Akti...   \n",
       "3  Eine russische Söldnergruppe rekrutiert einen ...   \n",
       "4         Änderung bei Energiepreisbremsen gefordert   \n",
       "\n",
       "                                            Maintext  \n",
       "0  Inmitten des Weihnachtsgeschäfts hat die Gewer...  \n",
       "1  Immer wieder sorgt Elon Musk nach der Übenahme...  \n",
       "2  Die Aktionäre sollen am Montag zwei Kapitalerh...  \n",
       "3  Die russische Söldnergruppe Wagner kämpft in d...  \n",
       "4  Die Preisbremsen für Gas und Strom bleiben ums...  "
      ]
     },
     "execution_count": 41,
     "metadata": {},
     "output_type": "execute_result"
    }
   ],
   "source": [
    "financeinfo=pd.read_csv(\"finance.csv\")\n",
    "financeinfo.head()"
   ]
  },
  {
   "cell_type": "code",
   "execution_count": 42,
   "id": "f8d2fde9",
   "metadata": {},
   "outputs": [
    {
     "name": "stderr",
     "output_type": "stream",
     "text": [
      "No model was supplied, defaulted to distilbert-base-uncased-finetuned-sst-2-english and revision af0f99b (https://huggingface.co/distilbert-base-uncased-finetuned-sst-2-english).\n",
      "Using a pipeline without specifying a model name and revision in production is not recommended.\n"
     ]
    },
    {
     "data": {
      "application/vnd.jupyter.widget-view+json": {
       "model_id": "00345f4da33142e99c17b199e61af6d7",
       "version_major": 2,
       "version_minor": 0
      },
      "text/plain": [
       "Downloading:   0%|          | 0.00/629 [00:00<?, ?B/s]"
      ]
     },
     "metadata": {},
     "output_type": "display_data"
    },
    {
     "data": {
      "application/vnd.jupyter.widget-view+json": {
       "model_id": "625617ce39ee44ef91e11bbfb675d575",
       "version_major": 2,
       "version_minor": 0
      },
      "text/plain": [
       "Downloading:   0%|          | 0.00/268M [00:00<?, ?B/s]"
      ]
     },
     "metadata": {},
     "output_type": "display_data"
    },
    {
     "data": {
      "application/vnd.jupyter.widget-view+json": {
       "model_id": "8f9a523dd4f8464d9aeba73c1574b38b",
       "version_major": 2,
       "version_minor": 0
      },
      "text/plain": [
       "Downloading:   0%|          | 0.00/48.0 [00:00<?, ?B/s]"
      ]
     },
     "metadata": {},
     "output_type": "display_data"
    },
    {
     "data": {
      "application/vnd.jupyter.widget-view+json": {
       "model_id": "8b9b6f0458ac49c3918e85a61184ba56",
       "version_major": 2,
       "version_minor": 0
      },
      "text/plain": [
       "Downloading:   0%|          | 0.00/232k [00:00<?, ?B/s]"
      ]
     },
     "metadata": {},
     "output_type": "display_data"
    },
    {
     "name": "stdout",
     "output_type": "stream",
     "text": [
      "Twitter {'neg': 0.0, 'neu': 1.0, 'pos': 0.0, 'compound': 0.0}\n",
      "[{'label': 'NEGATIVE', 'score': 0.9863907098770142}]\n",
      "Tesla {'neg': 0.0, 'neu': 1.0, 'pos': 0.0, 'compound': 0.0}\n",
      "[{'label': 'NEGATIVE', 'score': 0.9863907098770142}]\n",
      "Tesla {'neg': 0.081, 'neu': 0.919, 'pos': 0.0, 'compound': -0.4404}\n",
      "[{'label': 'NEGATIVE', 'score': 0.9958658218383789}]\n"
     ]
    }
   ],
   "source": [
    "unternehmen=[\"Adidas\", \"Airbus\",\"Twitter\",\"Allianz\",\"BASF\",\"Bayer\",\"Continental\",\"BMW\",\"Fresenius\",\"Merck\",\"Porsche\",\"Apple\",\"Tesla\",\"Siemens\",\"SAP\", \"Zalando\"]\n",
    "\n",
    "sentiment = SentimentIntensityAnalyzer()\n",
    "sentiment_pipeline = pipeline(\"sentiment-analysis\")\n",
    "for i in financeinfo.Maintext:\n",
    "    for aktien in unternehmen:\n",
    "        if aktien in i:\n",
    "            print(aktien,sentiment.polarity_scores(i))\n",
    "            print(sentiment_pipeline(i))\n",
    "        \n",
    "       "
   ]
  },
  {
   "cell_type": "code",
   "execution_count": null,
   "id": "fc11c699",
   "metadata": {},
   "outputs": [],
   "source": []
  }
 ],
 "metadata": {
  "kernelspec": {
   "display_name": "Python 3 (ipykernel)",
   "language": "python",
   "name": "python3"
  },
  "language_info": {
   "codemirror_mode": {
    "name": "ipython",
    "version": 3
   },
   "file_extension": ".py",
   "mimetype": "text/x-python",
   "name": "python",
   "nbconvert_exporter": "python",
   "pygments_lexer": "ipython3",
   "version": "3.9.7"
  }
 },
 "nbformat": 4,
 "nbformat_minor": 5
}
